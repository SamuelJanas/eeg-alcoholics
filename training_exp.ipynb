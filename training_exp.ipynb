{
 "cells": [
  {
   "cell_type": "code",
   "execution_count": 24,
   "id": "7388ceb2",
   "metadata": {},
   "outputs": [],
   "source": [
    "import numpy as np\n",
    "import pandas as pd\n",
    "import torch\n",
    "from model import EEGNet, EEGDataset, create_dataloaders, train_model, plot_metrics, save_training_stats\n",
    "from explore import apply_bandpass_filter\n",
    "from load_data import get_dataset\n",
    "from feature_extraction import extract_all_features_per_trial"
   ]
  },
  {
   "cell_type": "code",
   "execution_count": 25,
   "id": "36328da4",
   "metadata": {},
   "outputs": [
    {
     "name": "stdout",
     "output_type": "stream",
     "text": [
      "dataset loaded from tmp/dea5a0ab2c.pickle\n",
      "dataset loaded from tmp/0d05880708.pickle\n"
     ]
    }
   ],
   "source": [
    "train_df = get_dataset(\"data/SMNI_CMI_TRAIN/Train/\")\n",
    "test_df = get_dataset(\"data/SMNI_CMI_TEST/Test/\")"
   ]
  },
  {
   "cell_type": "code",
   "execution_count": 26,
   "id": "862a8616",
   "metadata": {},
   "outputs": [
    {
     "name": "stderr",
     "output_type": "stream",
     "text": [
      "/tmp/ipykernel_44171/2937941771.py:4: DeprecationWarning: DataFrameGroupBy.apply operated on the grouping columns. This behavior is deprecated, and in a future version of pandas the grouping columns will be excluded from the operation. Either pass `include_groups=False` to exclude the groupings or explicitly select the grouping columns after groupby to silence this warning.\n",
      "  .apply(apply_bandpass_filter) \\\n"
     ]
    }
   ],
   "source": [
    "df = pd.concat([train_df, test_df], ignore_index=True)\n",
    "\n",
    "filtered_df = df.groupby(['name', 'trial number', 'sensor position']) \\\n",
    "               .apply(apply_bandpass_filter) \\\n",
    "               .reset_index(drop=True)"
   ]
  },
  {
   "cell_type": "code",
   "execution_count": 27,
   "id": "5ea5e39a",
   "metadata": {},
   "outputs": [
    {
     "name": "stdout",
     "output_type": "stream",
     "text": [
      "(15532032, 10)\n",
      "   trial number sensor position  sample num  sensor value subject identifier  \\\n",
      "0             0             AF1           0        -2.146                  a   \n",
      "1             0             AF1           1        -2.146                  a   \n",
      "2             0             AF1           2        -1.658                  a   \n",
      "3             0             AF1           3        -0.682                  a   \n",
      "4             0             AF1           4         2.248                  a   \n",
      "\n",
      "  matching condition  channel         name      time  filtered_sensor_value  \n",
      "0             S1 obj        4  co2a0000364  0.000000              -0.004665  \n",
      "1             S1 obj        4  co2a0000364  0.003906              -0.040292  \n",
      "2             S1 obj        4  co2a0000364  0.007812              -0.165046  \n",
      "3             S1 obj        4  co2a0000364  0.011719              -0.429810  \n",
      "4             S1 obj        4  co2a0000364  0.015625              -0.797100  \n"
     ]
    }
   ],
   "source": [
    "print(filtered_df.shape)\n",
    "print(filtered_df.head())"
   ]
  },
  {
   "cell_type": "code",
   "execution_count": null,
   "id": "09e69616",
   "metadata": {},
   "outputs": [],
   "source": [
    "def extract_eeg_sequences(df: pd.DataFrame, group_label: int):\n",
    "    eeg_segments = []\n",
    "    labels = []\n",
    "    ids = []\n",
    "    grouped = df.groupby(['name', 'trial number'])\n",
    "\n",
    "    for (name, trial), group in grouped:\n",
    "        pivot = group.pivot_table(\n",
    "            index='sensor position',\n",
    "            columns='time',\n",
    "            values='filtered_sensor_value'\n",
    "        )\n",
    "\n",
    "        eeg_segments.append(pivot.values)\n",
    "        labels.append(group_label)\n",
    "        ids.append(group[\"name\"].first())\n",
    "    return np.stack(eeg_segments), np.array(labels), np.array(ids)\n",
    "\n",
    "alcohol_df = filtered_df[filtered_df['subject identifier'] == 'a']\n",
    "control_df = filtered_df[filtered_df['subject identifier'] == 'c']\n",
    "\n",
    "X_a, y_a = extract_eeg_sequences(alcohol_df, group_label=0)\n",
    "X_c, y_c = extract_eeg_sequences(control_df, group_label=1)\n",
    "\n",
    "X_full = np.concatenate([X_a, X_c], axis=0)\n",
    "y_full = np.concatenate([y_a, y_c], axis=0)"
   ]
  },
  {
   "cell_type": "code",
   "execution_count": 46,
   "id": "8f201d79",
   "metadata": {},
   "outputs": [
    {
     "data": {
      "text/plain": [
       "name\n",
       "co2c0000337    983040\n",
       "co2c0000339    983040\n",
       "co2c0000338    966656\n",
       "co2c0000340    966656\n",
       "co2c0000342    966656\n",
       "co2c0000344    966656\n",
       "co2c0000345    966656\n",
       "co2c0000341    950272\n",
       "Name: count, dtype: int64"
      ]
     },
     "execution_count": 46,
     "metadata": {},
     "output_type": "execute_result"
    }
   ],
   "source": [
    "control_df.name.value_counts()"
   ]
  },
  {
   "cell_type": "code",
   "execution_count": 29,
   "id": "982a8b34",
   "metadata": {},
   "outputs": [
    {
     "name": "stdout",
     "output_type": "stream",
     "text": [
      "(924, 64, 256)\n"
     ]
    }
   ],
   "source": [
    "print(X_full.shape) #924 measurements, 64 sensors, 256 time points"
   ]
  },
  {
   "cell_type": "code",
   "execution_count": 30,
   "id": "54859ef2",
   "metadata": {},
   "outputs": [
    {
     "name": "stdout",
     "output_type": "stream",
     "text": [
      "(924,)\n"
     ]
    }
   ],
   "source": [
    "print(y_full.shape)"
   ]
  },
  {
   "cell_type": "code",
   "execution_count": null,
   "id": "32c49a1c",
   "metadata": {},
   "outputs": [
    {
     "data": {
      "text/plain": [
       "'co2a0000364'"
      ]
     },
     "execution_count": 50,
     "metadata": {},
     "output_type": "execute_result"
    }
   ],
   "source": [
    "df = alcohol_df\n",
    "eeg_segments = []\n",
    "labels = []\n",
    "ids = []\n",
    "grouped = df.groupby(['name', 'trial number'])\n",
    "\n",
    "for (name, trial), group in grouped:\n",
    "    pivot = group.pivot_table(\n",
    "        index='sensor position',\n",
    "        columns='time',\n",
    "        values='filtered_sensor_value'\n",
    "    )\n",
    "\n",
    "    eeg_segments.append(pivot.values)\n",
    "    labels.append(1)\n",
    "    ids.append(group[\"name\"].iloc[0])\n",
    "    break\n",
    "\n",
    "subject_id"
   ]
  },
  {
   "cell_type": "code",
   "execution_count": 31,
   "id": "b974c944",
   "metadata": {},
   "outputs": [
    {
     "name": "stdout",
     "output_type": "stream",
     "text": [
      "Model Summary:\n",
      "EEGNet(\n",
      "  (conv1): Conv2d(1, 8, kernel_size=(1, 64), stride=(1, 1), padding=(0, 32), bias=False)\n",
      "  (bn1): BatchNorm2d(8, eps=1e-05, momentum=0.1, affine=True, track_running_stats=True)\n",
      "  (depthwise_conv): Conv2d(8, 16, kernel_size=(64, 1), stride=(1, 1), groups=8, bias=False)\n",
      "  (bn2): BatchNorm2d(16, eps=1e-05, momentum=0.1, affine=True, track_running_stats=True)\n",
      "  (activation1): ELU(alpha=1.0)\n",
      "  (avgpool1): AvgPool2d(kernel_size=(1, 4), stride=(1, 4), padding=0)\n",
      "  (dropout1): Dropout(p=0.5, inplace=False)\n",
      "  (separable_conv): Sequential(\n",
      "    (0): Conv2d(16, 16, kernel_size=(1, 16), stride=(1, 1), padding=(0, 8), bias=False)\n",
      "    (1): Conv2d(16, 16, kernel_size=(1, 1), stride=(1, 1), bias=False)\n",
      "  )\n",
      "  (bn3): BatchNorm2d(16, eps=1e-05, momentum=0.1, affine=True, track_running_stats=True)\n",
      "  (activation2): ELU(alpha=1.0)\n",
      "  (avgpool2): AvgPool2d(kernel_size=(1, 8), stride=(1, 8), padding=0)\n",
      "  (dropout2): Dropout(p=0.5, inplace=False)\n",
      "  (classifier): Linear(in_features=128, out_features=2, bias=True)\n",
      ")\n"
     ]
    }
   ],
   "source": [
    "train_loader, val_loader = create_dataloaders(X_full, y_full, batch_size=32)\n",
    "device = 'cuda' if torch.cuda.is_available() else 'cpu'\n",
    "model = EEGNet(num_channels=64, num_time_points=256, num_classes=2)\n",
    "print(\"Model Summary:\")\n",
    "print(model)"
   ]
  },
  {
   "cell_type": "code",
   "execution_count": 35,
   "id": "0d19389a",
   "metadata": {},
   "outputs": [
    {
     "name": "stdout",
     "output_type": "stream",
     "text": [
      "torch.Size([32, 1, 64, 256])\n"
     ]
    },
    {
     "data": {
      "text/plain": [
       "model.EEGNet"
      ]
     },
     "execution_count": 35,
     "metadata": {},
     "output_type": "execute_result"
    }
   ],
   "source": [
    "sample_X, _ = next(iter(train_loader))\n",
    "print(sample_X.shape) \n",
    "EEGNet"
   ]
  },
  {
   "cell_type": "code",
   "execution_count": 36,
   "id": "d164b40c",
   "metadata": {},
   "outputs": [
    {
     "name": "stdout",
     "output_type": "stream",
     "text": [
      "Epoch 001/100 | Train 0.6417 | Val 0.6018 | Acc 0.7027\n",
      "Epoch 002/100 | Train 0.5809 | Val 0.5319 | Acc 0.7676\n",
      "Epoch 003/100 | Train 0.5293 | Val 0.4884 | Acc 0.8162\n",
      "Epoch 004/100 | Train 0.4623 | Val 0.4510 | Acc 0.7946\n",
      "Epoch 005/100 | Train 0.4018 | Val 0.3729 | Acc 0.8432\n",
      "Epoch 006/100 | Train 0.3340 | Val 0.3093 | Acc 0.8757\n",
      "Epoch 007/100 | Train 0.3058 | Val 0.2834 | Acc 0.8919\n",
      "Epoch 008/100 | Train 0.2835 | Val 0.2534 | Acc 0.9081\n",
      "Epoch 009/100 | Train 0.2562 | Val 0.2093 | Acc 0.9243\n",
      "Epoch 010/100 | Train 0.2795 | Val 0.1832 | Acc 0.9622\n",
      "Epoch 011/100 | Train 0.2449 | Val 0.1911 | Acc 0.9351\n",
      "Epoch 012/100 | Train 0.2053 | Val 0.1694 | Acc 0.9459\n",
      "Epoch 013/100 | Train 0.1324 | Val 0.1481 | Acc 0.9459\n",
      "Epoch 014/100 | Train 0.1606 | Val 0.1414 | Acc 0.9568\n",
      "Epoch 015/100 | Train 0.1395 | Val 0.1147 | Acc 0.9622\n",
      "Epoch 016/100 | Train 0.1101 | Val 0.0929 | Acc 0.9622\n",
      "Epoch 017/100 | Train 0.1847 | Val 0.0690 | Acc 0.9838\n",
      "Epoch 018/100 | Train 0.1214 | Val 0.0921 | Acc 0.9676\n",
      "Epoch 019/100 | Train 0.1047 | Val 0.0648 | Acc 0.9784\n",
      "Epoch 020/100 | Train 0.0832 | Val 0.0621 | Acc 0.9838\n",
      "Epoch 021/100 | Train 0.0668 | Val 0.0498 | Acc 0.9838\n",
      "Epoch 022/100 | Train 0.0672 | Val 0.0319 | Acc 0.9892\n",
      "Epoch 023/100 | Train 0.0519 | Val 0.0303 | Acc 0.9892\n",
      "Epoch 024/100 | Train 0.0528 | Val 0.0273 | Acc 0.9892\n",
      "Epoch 025/100 | Train 0.0863 | Val 0.0396 | Acc 0.9784\n",
      "Epoch 026/100 | Train 0.0680 | Val 0.0601 | Acc 0.9676\n",
      "Epoch 027/100 | Train 0.0658 | Val 0.0336 | Acc 0.9892\n",
      "Epoch 028/100 | Train 0.0398 | Val 0.0296 | Acc 0.9946\n",
      "Epoch 029/100 | Train 0.0374 | Val 0.0249 | Acc 0.9892\n",
      "Epoch 030/100 | Train 0.0740 | Val 0.0287 | Acc 0.9892\n",
      "Epoch 031/100 | Train 0.0519 | Val 0.0351 | Acc 0.9946\n",
      "Epoch 032/100 | Train 0.0647 | Val 0.0257 | Acc 0.9892\n",
      "Epoch 033/100 | Train 0.0570 | Val 0.0326 | Acc 0.9892\n",
      "Epoch 034/100 | Train 0.0337 | Val 0.0223 | Acc 0.9892\n",
      "Epoch 035/100 | Train 0.0272 | Val 0.0216 | Acc 0.9946\n",
      "Epoch 036/100 | Train 0.0378 | Val 0.0204 | Acc 0.9946\n",
      "Epoch 037/100 | Train 0.0295 | Val 0.0233 | Acc 0.9892\n",
      "Epoch 038/100 | Train 0.0149 | Val 0.0190 | Acc 0.9946\n",
      "Epoch 039/100 | Train 0.0232 | Val 0.0157 | Acc 0.9946\n",
      "Epoch 040/100 | Train 0.0266 | Val 0.0161 | Acc 1.0000\n",
      "Epoch 041/100 | Train 0.1632 | Val 0.0134 | Acc 1.0000\n",
      "Epoch 042/100 | Train 0.0653 | Val 0.0323 | Acc 0.9838\n",
      "Epoch 043/100 | Train 0.0459 | Val 0.0203 | Acc 0.9946\n",
      "Epoch 044/100 | Train 0.1173 | Val 0.0174 | Acc 0.9946\n",
      "Epoch 045/100 | Train 0.0978 | Val 0.0310 | Acc 0.9946\n",
      "Epoch 046/100 | Train 0.0603 | Val 0.0258 | Acc 0.9946\n",
      "Epoch 047/100 | Train 0.0568 | Val 0.0162 | Acc 1.0000\n",
      "Epoch 048/100 | Train 0.0433 | Val 0.0245 | Acc 0.9946\n",
      "Epoch 049/100 | Train 0.0527 | Val 0.0244 | Acc 0.9946\n",
      "Epoch 050/100 | Train 0.0274 | Val 0.0211 | Acc 0.9838\n",
      "Epoch 051/100 | Train 0.0235 | Val 0.0356 | Acc 0.9838\n",
      "Epoch 052/100 | Train 0.0494 | Val 0.0409 | Acc 0.9892\n",
      "Epoch 053/100 | Train 0.0787 | Val 0.0580 | Acc 0.9838\n",
      "Early stop: no improvement in val-loss for 12 consecutive epochs.\n"
     ]
    }
   ],
   "source": [
    "best_model, stats = train_model(\n",
    "    model,\n",
    "    train_loader,\n",
    "    val_loader,\n",
    "    epochs=100,\n",
    "    lr=1e-3,\n",
    "    device=\"cuda\" if torch.cuda.is_available() else \"cpu\",\n",
    "    patience=12,      # stop after 12 non-improving epochs\n",
    "    min_delta=0.001,  # require at least 0.001 drop in val-loss\n",
    ")\n",
    "torch.save(model.state_dict(), \"models/signal_only_model.pt\")"
   ]
  },
  {
   "cell_type": "code",
   "execution_count": 37,
   "id": "a43b7a3a",
   "metadata": {},
   "outputs": [
    {
     "data": {
      "image/png": "[encoded data removed]",
      "text/plain": [
       "<Figure size 1000x400 with 2 Axes>"
      ]
     },
     "metadata": {},
     "output_type": "display_data"
    }
   ],
   "source": [
    "plot_metrics(stats)\n",
    "save_training_stats(stats, \"training_stats.csv\")"
   ]
  },
  {
   "cell_type": "code",
   "execution_count": 12,
   "id": "27fffefa",
   "metadata": {},
   "outputs": [
    {
     "name": "stdout",
     "output_type": "stream",
     "text": [
      "Accuracy on all data: 0.9935\n"
     ]
    }
   ],
   "source": [
    "from torch.utils.data import DataLoader\n",
    "\n",
    "def evaluate_on_full_data(model, X, y, batch_size=32, device='cpu'):\n",
    "    model.eval()\n",
    "    dataset = EEGDataset(X, y)\n",
    "    loader = DataLoader(dataset, batch_size=batch_size, shuffle=False)\n",
    "    correct = 0\n",
    "\n",
    "    with torch.no_grad():\n",
    "        for X_batch, y_batch in loader:\n",
    "            X_batch, y_batch = X_batch.to(device), y_batch.to(device)\n",
    "            output = model(X_batch)\n",
    "            pred = output.argmax(dim=1)\n",
    "            correct += pred.eq(y_batch).sum().item()\n",
    "\n",
    "    return correct / len(dataset)\n",
    "\n",
    "acc = evaluate_on_full_data(model, X_full, y_full, device=device)\n",
    "print(f\"Accuracy on all data: {acc:.4f}\")"
   ]
  }
 ],
 "metadata": {
  "kernelspec": {
   "display_name": "Python 3",
   "language": "python",
   "name": "python3"
  },
  "language_info": {
   "codemirror_mode": {
    "name": "ipython",
    "version": 3
   },
   "file_extension": ".py",
   "mimetype": "text/x-python",
   "name": "python",
   "nbconvert_exporter": "python",
   "pygments_lexer": "ipython3",
   "version": "3.11.11"
  }
 },
 "nbformat": 4,
 "nbformat_minor": 5
}
