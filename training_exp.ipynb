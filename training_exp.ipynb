{
 "cells": [
  {
   "cell_type": "code",
   "execution_count": null,
   "id": "7388ceb2",
   "metadata": {},
   "outputs": [],
   "source": [
    "import numpy as np\n",
    "import pandas as pd\n",
    "import torch\n",
    "from model import EEGNet, CNN_BiLSTM, EEGDataset, create_dataloaders, train_model, plot_metrics, save_training_stats\n",
    "from explore import apply_bandpass_filter\n",
    "from load_data import get_dataset\n",
    "from feature_extraction import extract_all_features_per_trial"
   ]
  },
  {
   "cell_type": "code",
   "execution_count": 28,
   "id": "36328da4",
   "metadata": {},
   "outputs": [
    {
     "name": "stdout",
     "output_type": "stream",
     "text": [
      "dataset loaded from tmp/dea5a0ab2c.pickle\n",
      "dataset loaded from tmp/0d05880708.pickle\n"
     ]
    }
   ],
   "source": [
    "train_df = get_dataset(\"data/SMNI_CMI_TRAIN/Train/\")\n",
    "test_df = get_dataset(\"data/SMNI_CMI_TEST/Test/\")"
   ]
  },
  {
   "cell_type": "code",
   "execution_count": 29,
   "id": "862a8616",
   "metadata": {},
   "outputs": [
    {
     "name": "stderr",
     "output_type": "stream",
     "text": [
      "C:\\Users\\Bruno\\AppData\\Local\\Temp\\ipykernel_14428\\2937941771.py:4: DeprecationWarning: DataFrameGroupBy.apply operated on the grouping columns. This behavior is deprecated, and in a future version of pandas the grouping columns will be excluded from the operation. Either pass `include_groups=False` to exclude the groupings or explicitly select the grouping columns after groupby to silence this warning.\n",
      "  .apply(apply_bandpass_filter) \\\n"
     ]
    }
   ],
   "source": [
    "df = pd.concat([train_df, test_df], ignore_index=True)\n",
    "\n",
    "filtered_df = df.groupby(['name', 'trial number', 'sensor position']) \\\n",
    "               .apply(apply_bandpass_filter) \\\n",
    "               .reset_index(drop=True)"
   ]
  },
  {
   "cell_type": "code",
   "execution_count": 30,
   "id": "5ea5e39a",
   "metadata": {},
   "outputs": [
    {
     "name": "stdout",
     "output_type": "stream",
     "text": [
      "(15532032, 10)\n",
      "   trial number sensor position  sample num  sensor value subject identifier  \\\n",
      "0             0             AF1           0        -2.146                  a   \n",
      "1             0             AF1           1        -2.146                  a   \n",
      "2             0             AF1           2        -1.658                  a   \n",
      "3             0             AF1           3        -0.682                  a   \n",
      "4             0             AF1           4         2.248                  a   \n",
      "\n",
      "  matching condition  channel         name      time  filtered_sensor_value  \n",
      "0             S1 obj        4  co2a0000364  0.000000              -0.004665  \n",
      "1             S1 obj        4  co2a0000364  0.003906              -0.040292  \n",
      "2             S1 obj        4  co2a0000364  0.007812              -0.165046  \n",
      "3             S1 obj        4  co2a0000364  0.011719              -0.429810  \n",
      "4             S1 obj        4  co2a0000364  0.015625              -0.797100  \n"
     ]
    }
   ],
   "source": [
    "print(filtered_df.shape)\n",
    "print(filtered_df.head())"
   ]
  },
  {
   "cell_type": "code",
   "execution_count": 31,
   "id": "09e69616",
   "metadata": {},
   "outputs": [],
   "source": [
    "def extract_eeg_sequences(df: pd.DataFrame, group_label: int):\n",
    "    eeg_segments = []\n",
    "    labels = []\n",
    "    ids = []\n",
    "    grouped = df.groupby(['name', 'trial number'])\n",
    "\n",
    "    for (name, trial), group in grouped:\n",
    "        pivot = group.pivot_table(\n",
    "            index='sensor position',\n",
    "            columns='time',\n",
    "            values='filtered_sensor_value'\n",
    "        )\n",
    "\n",
    "        eeg_segments.append(pivot.values)\n",
    "        labels.append(group_label)\n",
    "        ids.append(group[\"name\"].iloc[0])\n",
    "    return np.stack(eeg_segments), np.array(labels), np.array(ids)\n",
    "\n",
    "alcohol_df = filtered_df[filtered_df['subject identifier'] == 'a']\n",
    "control_df = filtered_df[filtered_df['subject identifier'] == 'c']\n",
    "\n",
    "X_a, y_a, y_id_a = extract_eeg_sequences(alcohol_df, group_label=0)\n",
    "X_c, y_c, y_id_c = extract_eeg_sequences(control_df, group_label=1)\n",
    "\n",
    "X_full = np.concatenate([X_a, X_c], axis=0)\n",
    "y_full = np.concatenate([y_a, y_c], axis=0)\n",
    "id_full = np.concatenate([y_id_a, y_id_c], axis=0)"
   ]
  },
  {
   "cell_type": "code",
   "execution_count": 32,
   "id": "8f201d79",
   "metadata": {},
   "outputs": [
    {
     "data": {
      "text/plain": [
       "(924,)"
      ]
     },
     "execution_count": 32,
     "metadata": {},
     "output_type": "execute_result"
    }
   ],
   "source": [
    "id_full.shape"
   ]
  },
  {
   "cell_type": "code",
   "execution_count": 33,
   "id": "982a8b34",
   "metadata": {},
   "outputs": [
    {
     "name": "stdout",
     "output_type": "stream",
     "text": [
      "(924, 64, 256)\n"
     ]
    }
   ],
   "source": [
    "print(X_full.shape) #924 measurements, 64 sensors, 256 time points"
   ]
  },
  {
   "cell_type": "code",
   "execution_count": 34,
   "id": "54859ef2",
   "metadata": {},
   "outputs": [
    {
     "name": "stdout",
     "output_type": "stream",
     "text": [
      "(924,)\n"
     ]
    }
   ],
   "source": [
    "print(y_full.shape)"
   ]
  },
  {
   "cell_type": "code",
   "execution_count": null,
   "id": "b974c944",
   "metadata": {},
   "outputs": [
    {
     "name": "stdout",
     "output_type": "stream",
     "text": [
      "Train set unique IDs: ['co2a0000364' 'co2a0000365' 'co2a0000368' 'co2a0000369' 'co2a0000370'\n",
      " 'co2a0000375' 'co2c0000337' 'co2c0000339' 'co2c0000340' 'co2c0000341'\n",
      " 'co2c0000344' 'co2c0000345']\n",
      "Val set unique IDs: ['co2a0000371' 'co2a0000372' 'co2c0000338' 'co2c0000342']\n",
      "Model Summary:\n",
      "EEGNet(\n",
      "  (conv1): Conv2d(1, 8, kernel_size=(1, 64), stride=(1, 1), padding=(0, 32), bias=False)\n",
      "  (bn1): BatchNorm2d(8, eps=1e-05, momentum=0.1, affine=True, track_running_stats=True)\n",
      "  (depthwise_conv): Conv2d(8, 16, kernel_size=(64, 1), stride=(1, 1), groups=8, bias=False)\n",
      "  (bn2): BatchNorm2d(16, eps=1e-05, momentum=0.1, affine=True, track_running_stats=True)\n",
      "  (activation1): ELU(alpha=1.0)\n",
      "  (avgpool1): AvgPool2d(kernel_size=(1, 4), stride=(1, 4), padding=0)\n",
      "  (dropout1): Dropout(p=0.5, inplace=False)\n",
      "  (separable_conv): Sequential(\n",
      "    (0): Conv2d(16, 16, kernel_size=(1, 16), stride=(1, 1), padding=(0, 8), bias=False)\n",
      "    (1): Conv2d(16, 16, kernel_size=(1, 1), stride=(1, 1), bias=False)\n",
      "  )\n",
      "  (bn3): BatchNorm2d(16, eps=1e-05, momentum=0.1, affine=True, track_running_stats=True)\n",
      "  (activation2): ELU(alpha=1.0)\n",
      "  (avgpool2): AvgPool2d(kernel_size=(1, 8), stride=(1, 8), padding=0)\n",
      "  (dropout2): Dropout(p=0.5, inplace=False)\n",
      "  (classifier): Linear(in_features=128, out_features=2, bias=True)\n",
      ")\n"
     ]
    }
   ],
   "source": [
    "train_loader, val_loader = create_dataloaders(X_full, y_full, id_full, batch_size=32)\n",
    "device = 'cuda' if torch.cuda.is_available() else 'cpu'\n",
    "model = EEGNet(num_channels=64, num_time_points=256, num_classes=2)\n",
    "print(\"Model Summary:\")\n",
    "print(model)"
   ]
  },
  {
   "cell_type": "code",
   "execution_count": 48,
   "id": "1728e12b",
   "metadata": {},
   "outputs": [
    {
     "name": "stdout",
     "output_type": "stream",
     "text": [
      "Model Summary:\n",
      "CNN_BiLSTM(\n",
      "  (conv1): Conv1d(64, 64, kernel_size=(3,), stride=(1,), padding=(1,))\n",
      "  (relu1): ReLU()\n",
      "  (pool1): MaxPool1d(kernel_size=2, stride=2, padding=0, dilation=1, ceil_mode=False)\n",
      "  (conv2): Conv1d(64, 64, kernel_size=(3,), stride=(1,), padding=(1,))\n",
      "  (relu2): ReLU()\n",
      "  (conv3): Conv1d(64, 128, kernel_size=(3,), stride=(1,), padding=(1,))\n",
      "  (relu3): ReLU()\n",
      "  (conv4): Conv1d(128, 128, kernel_size=(3,), stride=(1,), padding=(1,))\n",
      "  (relu4): ReLU()\n",
      "  (pool2): MaxPool1d(kernel_size=2, stride=2, padding=0, dilation=1, ceil_mode=False)\n",
      "  (bi_lstm): LSTM(128, 64, batch_first=True, bidirectional=True)\n",
      "  (fc1): Linear(in_features=8192, out_features=256, bias=True)\n",
      "  (drop1): Dropout(p=0.5, inplace=False)\n",
      "  (fc2): Linear(in_features=256, out_features=128, bias=True)\n",
      "  (drop2): Dropout(p=0.5, inplace=False)\n",
      "  (fc3): Linear(in_features=128, out_features=64, bias=True)\n",
      "  (drop3): Dropout(p=0.5, inplace=False)\n",
      "  (output): Linear(in_features=64, out_features=2, bias=True)\n",
      ")\n"
     ]
    }
   ],
   "source": [
    "model2 = CNN_BiLSTM()\n",
    "print(\"Model Summary:\")\n",
    "print(model2)"
   ]
  },
  {
   "cell_type": "code",
   "execution_count": 36,
   "id": "b3ea48a8",
   "metadata": {},
   "outputs": [
    {
     "data": {
      "text/plain": [
       "<torch.utils.data.dataloader.DataLoader at 0x1e82603ad40>"
      ]
     },
     "execution_count": 36,
     "metadata": {},
     "output_type": "execute_result"
    }
   ],
   "source": [
    "train_loader"
   ]
  },
  {
   "cell_type": "code",
   "execution_count": 37,
   "id": "0d19389a",
   "metadata": {},
   "outputs": [
    {
     "name": "stdout",
     "output_type": "stream",
     "text": [
      "torch.Size([32, 1, 64, 256])\n"
     ]
    }
   ],
   "source": [
    "sample_X, _ = next(iter(train_loader))\n",
    "print(sample_X.shape) "
   ]
  },
  {
   "cell_type": "code",
   "execution_count": 43,
   "id": "d164b40c",
   "metadata": {},
   "outputs": [
    {
     "name": "stdout",
     "output_type": "stream",
     "text": [
      "Epoch 001/100 | Train 0.7009 | Val 0.6992 | Acc 0.5000\n",
      "Epoch 002/100 | Train 0.6927 | Val 0.6845 | Acc 0.5381\n",
      "Epoch 003/100 | Train 0.6378 | Val 0.3685 | Acc 0.8814\n",
      "Epoch 004/100 | Train 0.5093 | Val 0.2836 | Acc 0.8983\n",
      "Epoch 005/100 | Train 0.3390 | Val 0.2220 | Acc 0.9025\n",
      "Epoch 006/100 | Train 0.2688 | Val 0.2405 | Acc 0.9110\n",
      "Epoch 007/100 | Train 0.1324 | Val 0.2285 | Acc 0.9280\n",
      "Epoch 008/100 | Train 0.0812 | Val 0.1803 | Acc 0.9280\n",
      "Epoch 009/100 | Train 0.0697 | Val 0.0640 | Acc 0.9703\n",
      "Epoch 010/100 | Train 0.0334 | Val 0.2002 | Acc 0.9322\n",
      "Epoch 011/100 | Train 0.0078 | Val 0.1750 | Acc 0.9534\n",
      "Epoch 012/100 | Train 0.0043 | Val 0.9599 | Acc 0.8432\n",
      "Epoch 013/100 | Train 0.0403 | Val 0.2934 | Acc 0.9195\n",
      "Epoch 014/100 | Train 0.0225 | Val 0.1140 | Acc 0.9619\n",
      "Epoch 015/100 | Train 0.0200 | Val 0.1477 | Acc 0.9576\n",
      "Epoch 016/100 | Train 0.0536 | Val 0.3369 | Acc 0.8898\n",
      "Epoch 017/100 | Train 0.0111 | Val 1.0158 | Acc 0.8178\n",
      "Epoch 018/100 | Train 0.0176 | Val 0.2100 | Acc 0.9364\n",
      "Epoch 019/100 | Train 0.0165 | Val 0.1633 | Acc 0.9364\n",
      "Epoch 020/100 | Train 0.0072 | Val 0.1623 | Acc 0.9619\n",
      "Epoch 021/100 | Train 0.0005 | Val 0.1954 | Acc 0.9407\n",
      "Early stop: no improvement in val-loss for 12 consecutive epochs.\n"
     ]
    }
   ],
   "source": [
    "best_model, stats = train_model(\n",
    "    model2,\n",
    "    train_loader,\n",
    "    val_loader,\n",
    "    epochs=100,\n",
    "    lr=1e-3,\n",
    "    device=\"cuda\" if torch.cuda.is_available() else \"cpu\",\n",
    "    patience=12,      # stop after 12 non-improving epochs\n",
    "    min_delta=0.001,  # require at least 0.001 drop in val-loss\n",
    ")\n",
    "torch.save(model.state_dict(), \"models/signal_only_model.pt\")"
   ]
  },
  {
   "cell_type": "code",
   "execution_count": 46,
   "id": "a43b7a3a",
   "metadata": {},
   "outputs": [
    {
     "data": {
      "image/png": "[encoded data removed]",
      "text/plain": [
       "<Figure size 1000x400 with 2 Axes>"
      ]
     },
     "metadata": {},
     "output_type": "display_data"
    }
   ],
   "source": [
    "plot_metrics(stats)\n",
    "save_training_stats(stats, \"training_stats.csv\")"
   ]
  },
  {
   "cell_type": "code",
   "execution_count": 45,
   "id": "27fffefa",
   "metadata": {},
   "outputs": [
    {
     "name": "stdout",
     "output_type": "stream",
     "text": [
      "Accuracy on all data: 0.9589\n"
     ]
    }
   ],
   "source": [
    "from torch.utils.data import DataLoader\n",
    "\n",
    "def evaluate_on_full_data(model, X, y, batch_size=32, device='cpu'):\n",
    "    model.eval()\n",
    "    dataset = EEGDataset(X, y)\n",
    "    loader = DataLoader(dataset, batch_size=batch_size, shuffle=False)\n",
    "    correct = 0\n",
    "\n",
    "    with torch.no_grad():\n",
    "        for X_batch, y_batch in loader:\n",
    "            X_batch, y_batch = X_batch.to(device), y_batch.to(device)\n",
    "            output = model(X_batch)\n",
    "            pred = output.argmax(dim=1)\n",
    "            correct += pred.eq(y_batch).sum().item()\n",
    "\n",
    "    return correct / len(dataset)\n",
    "\n",
    "acc = evaluate_on_full_data(model, X_full, y_full, device=device)\n",
    "print(f\"Accuracy on all data: {acc:.4f}\")"
   ]
  },
  {
   "cell_type": "code",
   "execution_count": null,
   "id": "959e34a7",
   "metadata": {},
   "outputs": [],
   "source": []
  }
 ],
 "metadata": {
  "kernelspec": {
   "display_name": "Python 3",
   "language": "python",
   "name": "python3"
  },
  "language_info": {
   "codemirror_mode": {
    "name": "ipython",
    "version": 3
   },
   "file_extension": ".py",
   "mimetype": "text/x-python",
   "name": "python",
   "nbconvert_exporter": "python",
   "pygments_lexer": "ipython3",
   "version": "3.10.0"
  }
 },
 "nbformat": 4,
 "nbformat_minor": 5
}
